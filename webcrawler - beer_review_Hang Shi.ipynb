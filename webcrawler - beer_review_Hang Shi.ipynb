{
 "cells": [
  {
   "cell_type": "code",
   "execution_count": 1,
   "id": "fb666337",
   "metadata": {
    "ExecuteTime": {
     "end_time": "2022-06-23T02:56:35.191220Z",
     "start_time": "2022-06-23T02:56:34.917345Z"
    }
   },
   "outputs": [],
   "source": [
    "import requests\n",
    "import re\n",
    "from bs4 import BeautifulSoup"
   ]
  },
  {
   "cell_type": "code",
   "execution_count": 2,
   "id": "5134d687",
   "metadata": {
    "ExecuteTime": {
     "end_time": "2022-06-23T02:56:35.225752Z",
     "start_time": "2022-06-23T02:56:35.208157Z"
    }
   },
   "outputs": [
    {
     "data": {
      "text/plain": [
       "41"
      ]
     },
     "execution_count": 2,
     "metadata": {},
     "output_type": "execute_result"
    }
   ],
   "source": [
    "filename=r'C:\\Users\\hangs\\OneDrive\\Desktop\\ML CAMP\\Techlent Camp-Spring 2021\\Week 13\\beer_rate_review_all.csv'\n",
    "file=open(filename,'w')\n",
    "headers=\"rate,overall score,category score,review\\n\"\n",
    "file.write(headers)"
   ]
  },
  {
   "cell_type": "code",
   "execution_count": 3,
   "id": "85c6db73",
   "metadata": {
    "ExecuteTime": {
     "end_time": "2022-06-23T02:56:35.271448Z",
     "start_time": "2022-06-23T02:56:35.261777Z"
    }
   },
   "outputs": [],
   "source": [
    "urls=[]\n",
    "my_url='https://www.beeradvocate.com/beer/profile/23222/78820/?view=beer&show=recent&start=40#lists'\n",
    "urls.append(my_url)\n",
    "my_url='https://www.beeradvocate.com/beer/profile/26/42349/?view=beer&show=recent&start=40#lists'\n",
    "urls.append(my_url)\n",
    "my_url='https://www.beeradvocate.com/beer/profile/25888/87246/?view=beer&show=recent&start=0#lists'\n",
    "urls.append(my_url)"
   ]
  },
  {
   "cell_type": "code",
   "execution_count": 4,
   "id": "29feea83",
   "metadata": {
    "ExecuteTime": {
     "end_time": "2022-06-23T02:56:36.330259Z",
     "start_time": "2022-06-23T02:56:35.423705Z"
    }
   },
   "outputs": [],
   "source": [
    "for my_url in urls:\n",
    "    req=requests.get(my_url)\n",
    "    webpage=req.text\n",
    "    soup=BeautifulSoup(webpage,'html.parser')\n",
    "    containers=soup.findAll(\"div\",{\"class\":\"user-comment\"})\n",
    "    for container in containers:\n",
    "        try:\n",
    "            rate=container.find('span',{'class':'BAscore_norm'}).text\n",
    "        except: rate=container.find('span',{'class':'muted'}).b.text\n",
    "        try:\n",
    "            overall_score=re.findall('overall:[^a-zA-Z]+',container.text)[0]\n",
    "        except: overall_score=''\n",
    "        try:\n",
    "            category_score=re.findall('(look:.+)\\|',container.text)[0]\n",
    "        except: category_score=''\n",
    "        try:\n",
    "            review=re.findall('by.*',container.text,re.DOTALL)[0].replace('\\n','|').replace(',',';')\n",
    "        except: review=''\n",
    "        combined=rate+','+overall_score+','+category_score+','+review+'\\n'\n",
    "        file.write(combined)\n",
    "file.close()"
   ]
  }
 ],
 "metadata": {
  "kernelspec": {
   "display_name": "Python 3 (ipykernel)",
   "language": "python",
   "name": "python3"
  },
  "language_info": {
   "codemirror_mode": {
    "name": "ipython",
    "version": 3
   },
   "file_extension": ".py",
   "mimetype": "text/x-python",
   "name": "python",
   "nbconvert_exporter": "python",
   "pygments_lexer": "ipython3",
   "version": "3.9.12"
  },
  "toc": {
   "base_numbering": 1,
   "nav_menu": {},
   "number_sections": true,
   "sideBar": true,
   "skip_h1_title": false,
   "title_cell": "Table of Contents",
   "title_sidebar": "Contents",
   "toc_cell": false,
   "toc_position": {},
   "toc_section_display": true,
   "toc_window_display": false
  },
  "varInspector": {
   "cols": {
    "lenName": 16,
    "lenType": 16,
    "lenVar": 40
   },
   "kernels_config": {
    "python": {
     "delete_cmd_postfix": "",
     "delete_cmd_prefix": "del ",
     "library": "var_list.py",
     "varRefreshCmd": "print(var_dic_list())"
    },
    "r": {
     "delete_cmd_postfix": ") ",
     "delete_cmd_prefix": "rm(",
     "library": "var_list.r",
     "varRefreshCmd": "cat(var_dic_list()) "
    }
   },
   "types_to_exclude": [
    "module",
    "function",
    "builtin_function_or_method",
    "instance",
    "_Feature"
   ],
   "window_display": false
  }
 },
 "nbformat": 4,
 "nbformat_minor": 5
}
